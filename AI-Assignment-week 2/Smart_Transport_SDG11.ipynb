{
  "cells": [
    {
      "cell_type": "markdown",
      "metadata": {},
      "source": [
        "# Smart Transport Optimization for SDG 11 \u2014 Colab Notebook\n",
        "Author: STEPHEN ODHIAMBO\n\n",
        "This notebook demonstrates an unsupervised learning approach (K-Means clustering) to identify regions\n",
        "in a city that share similar transport demand characteristics and suggests optimization actions.\n",
        "Context: Nairobi, Kenya\n\n",
        "Run this notebook in Google Colab or locally. The notebook includes a synthetic example and\n",
        "instructions for replacing the synthetic data with real open data (e.g., Open Data Kenya, World Bank)."
      ]
    },
    {
      "cell_type": "code",
      "metadata": {
        "collapsed": false
      },
      "source": [
        "# Install dependencies (uncomment if running in a fresh Colab environment)\n",
        "# !pip install scikit-learn pandas matplotlib seaborn geopandas folium\n"
      ],
      "execution_count": null,
      "outputs": []
    },
    {
      "cell_type": "code",
      "metadata": {},
      "source": [
        "import pandas as pd\n",
        "import numpy as np\n",
        "from sklearn.cluster import KMeans\n",
        "from sklearn.preprocessing import StandardScaler\n",
        "import matplotlib.pyplot as plt\n",
        "import seaborn as sns\n",
        "sns.set(style='whitegrid')\n"
      ],
      "execution_count": null,
      "outputs": []
    },
    {
      "cell_type": "code",
      "metadata": {},
      "source": [
        "# Synthetic dataset (replace with real city data)\n",
        "data = {\n",
        "    'Region': ['CBD','Westlands','Kibera','Langata','Embakasi','Kasarani','Karen','Ruiru'],\n",
        "    'Population_Density': [12000, 9000, 15000, 11000, 13000, 9500, 7000, 10000],\n",
        "    'Avg_Traffic_Volume': [800, 600, 1200, 900, 1100, 750, 400, 700],\n",
        "    'Distance_to_CBD_km': [0, 3, 5, 6, 8, 7, 10, 12],\n",
        "    'Bus_Stops': [25, 18, 10, 12, 15, 9, 7, 8]\n",
        "}\n",
        "df = pd.DataFrame(data)\n",
        "df.head()\n"
      ],
      "execution_count": null,
      "outputs": []
    },
    {
      "cell_type": "code",
      "metadata": {},
      "source": [
        "# Preprocess features\n",
        "features = ['Population_Density', 'Avg_Traffic_Volume', 'Distance_to_CBD_km', 'Bus_Stops']\n",
        "X = df[features].values\n",
        "scaler = StandardScaler()\n",
        "X_scaled = scaler.fit_transform(X)\n"
      ],
      "execution_count": null,
      "outputs": []
    },
    {
      "cell_type": "code",
      "metadata": {},
      "source": [
        "# Choose number of clusters (k)\n",
        "k = 3\n",
        "kmeans = KMeans(n_clusters=k, random_state=42)\n",
        "clusters = kmeans.fit_predict(X_scaled)\n",
        "df['Cluster'] = clusters\n",
        "df\n"
      ],
      "execution_count": null,
      "outputs": []
    },
    {
      "cell_type": "code",
      "metadata": {},
      "source": [
        "# Visualize clusters\n",
        "plt.figure(figsize=(8,6))\n",
        "sns.scatterplot(x='Population_Density', y='Avg_Traffic_Volume', hue='Cluster', data=df, s=120)\n",
        "plt.title('City Transport Clusters (K-Means)')\n",
        "plt.xlabel('Population Density (people/km\u00b2)')\n",
        "plt.ylabel('Average Traffic Volume (vehicles/day)')\n",
        "plt.show()\n"
      ],
      "execution_count": null,
      "outputs": []
    },
    {
      "cell_type": "code",
      "metadata": {},
      "source": [
        "# Cluster summary and suggested actions\n",
        "summary = df.groupby('Cluster').agg({\n",
        "    'Region': lambda x: ', '.join(x),\n",
        "    'Population_Density': 'mean',\n",
        "    'Avg_Traffic_Volume': 'mean',\n",
        "    'Distance_to_CBD_km': 'mean',\n",
        "    'Bus_Stops': 'mean'\n",
        "}).reset_index()\n",
        "summary.columns = ['Cluster', 'Regions', 'Avg_Pop_Density', 'Avg_Traffic', 'Avg_Distance_km', 'Avg_Bus_Stops']\n",
        "summary\n"
      ],
      "execution_count": null,
      "outputs": []
    },
    {
      "cell_type": "markdown",
      "metadata": {},
      "source": [
        "## How to use this notebook with real data\n",
        "1. Replace the synthetic `data` dict with a `pd.read_csv()` call to your dataset.\n",
        "2. Ensure features are numeric and fill or drop missing values.\n",
        "3. Scale features, run KMeans, and visualize clusters.\n",
        "4. Consider mapping clusters onto a city map using `folium` or `geopandas` for geospatial visuals.\n"
      ]
    }
  ],
  "metadata": {
    "kernelspec": {
      "display_name": "Python 3",
      "language": "python",
      "name": "python3"
    },
    "language_info": {
      "name": "python",
      "version": "3.11.8"
    }
  },
  "nbformat": 4,
  "nbformat_minor": 5
}